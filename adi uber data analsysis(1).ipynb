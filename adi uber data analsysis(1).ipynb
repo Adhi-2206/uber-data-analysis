{
 "cells": [
  {
   "cell_type": "markdown",
   "id": "24b5d745",
   "metadata": {},
   "source": [
    "# Uber Car data analysis"
   ]
  },
  {
   "cell_type": "code",
   "execution_count": 3,
   "id": "e9268c5b",
   "metadata": {},
   "outputs": [],
   "source": [
    "import pandas as pd\n",
    "import numpy as np\n",
    "import matplotlib.pyplot as plt\n",
    "import seaborn as sns\n"
   ]
  },
  {
   "cell_type": "markdown",
   "id": "3579acf3",
   "metadata": {},
   "source": [
    "# reading dataset"
   ]
  },
  {
   "cell_type": "code",
   "execution_count": 5,
   "id": "590318d4",
   "metadata": {},
   "outputs": [
    {
     "data": {
      "text/html": [
       "<div>\n",
       "<style scoped>\n",
       "    .dataframe tbody tr th:only-of-type {\n",
       "        vertical-align: middle;\n",
       "    }\n",
       "\n",
       "    .dataframe tbody tr th {\n",
       "        vertical-align: top;\n",
       "    }\n",
       "\n",
       "    .dataframe thead th {\n",
       "        text-align: right;\n",
       "    }\n",
       "</style>\n",
       "<table border=\"1\" class=\"dataframe\">\n",
       "  <thead>\n",
       "    <tr style=\"text-align: right;\">\n",
       "      <th></th>\n",
       "      <th>id</th>\n",
       "      <th>user_id</th>\n",
       "      <th>vehicle_model_id</th>\n",
       "      <th>package_id</th>\n",
       "      <th>travel_type_id</th>\n",
       "      <th>from_area_id</th>\n",
       "      <th>to_area_id</th>\n",
       "      <th>from_city_id</th>\n",
       "      <th>to_city_id</th>\n",
       "      <th>from_date</th>\n",
       "      <th>to_date</th>\n",
       "      <th>online_booking</th>\n",
       "      <th>mobile_site_booking</th>\n",
       "      <th>booking_created</th>\n",
       "      <th>from_lat</th>\n",
       "      <th>from_long</th>\n",
       "      <th>to_lat</th>\n",
       "      <th>to_long</th>\n",
       "      <th>Car_Cancellation</th>\n",
       "      <th>Cost_of_error</th>\n",
       "    </tr>\n",
       "  </thead>\n",
       "  <tbody>\n",
       "    <tr>\n",
       "      <th>0</th>\n",
       "      <td>132512</td>\n",
       "      <td>22177</td>\n",
       "      <td>28</td>\n",
       "      <td>NaN</td>\n",
       "      <td>2</td>\n",
       "      <td>83.0</td>\n",
       "      <td>448.0</td>\n",
       "      <td>NaN</td>\n",
       "      <td>NaN</td>\n",
       "      <td>1/1/2013 2:00</td>\n",
       "      <td>NaN</td>\n",
       "      <td>0</td>\n",
       "      <td>0</td>\n",
       "      <td>1/1/2013 1:39</td>\n",
       "      <td>12.924150</td>\n",
       "      <td>77.672290</td>\n",
       "      <td>12.927320</td>\n",
       "      <td>77.635750</td>\n",
       "      <td>0</td>\n",
       "      <td>1.0</td>\n",
       "    </tr>\n",
       "    <tr>\n",
       "      <th>1</th>\n",
       "      <td>132513</td>\n",
       "      <td>21413</td>\n",
       "      <td>12</td>\n",
       "      <td>NaN</td>\n",
       "      <td>2</td>\n",
       "      <td>1010.0</td>\n",
       "      <td>540.0</td>\n",
       "      <td>NaN</td>\n",
       "      <td>NaN</td>\n",
       "      <td>1/1/2013 9:00</td>\n",
       "      <td>NaN</td>\n",
       "      <td>0</td>\n",
       "      <td>0</td>\n",
       "      <td>1/1/2013 2:25</td>\n",
       "      <td>12.966910</td>\n",
       "      <td>77.749350</td>\n",
       "      <td>12.927680</td>\n",
       "      <td>77.626640</td>\n",
       "      <td>0</td>\n",
       "      <td>1.0</td>\n",
       "    </tr>\n",
       "    <tr>\n",
       "      <th>2</th>\n",
       "      <td>132514</td>\n",
       "      <td>22178</td>\n",
       "      <td>12</td>\n",
       "      <td>NaN</td>\n",
       "      <td>2</td>\n",
       "      <td>1301.0</td>\n",
       "      <td>1034.0</td>\n",
       "      <td>NaN</td>\n",
       "      <td>NaN</td>\n",
       "      <td>1/1/2013 3:30</td>\n",
       "      <td>NaN</td>\n",
       "      <td>0</td>\n",
       "      <td>0</td>\n",
       "      <td>1/1/2013 3:08</td>\n",
       "      <td>12.937222</td>\n",
       "      <td>77.626915</td>\n",
       "      <td>13.047926</td>\n",
       "      <td>77.597766</td>\n",
       "      <td>0</td>\n",
       "      <td>1.0</td>\n",
       "    </tr>\n",
       "    <tr>\n",
       "      <th>3</th>\n",
       "      <td>132515</td>\n",
       "      <td>13034</td>\n",
       "      <td>12</td>\n",
       "      <td>NaN</td>\n",
       "      <td>2</td>\n",
       "      <td>768.0</td>\n",
       "      <td>398.0</td>\n",
       "      <td>NaN</td>\n",
       "      <td>NaN</td>\n",
       "      <td>1/1/2013 5:45</td>\n",
       "      <td>NaN</td>\n",
       "      <td>0</td>\n",
       "      <td>0</td>\n",
       "      <td>1/1/2013 4:39</td>\n",
       "      <td>12.989990</td>\n",
       "      <td>77.553320</td>\n",
       "      <td>12.971430</td>\n",
       "      <td>77.639140</td>\n",
       "      <td>0</td>\n",
       "      <td>1.0</td>\n",
       "    </tr>\n",
       "    <tr>\n",
       "      <th>4</th>\n",
       "      <td>132517</td>\n",
       "      <td>22180</td>\n",
       "      <td>12</td>\n",
       "      <td>NaN</td>\n",
       "      <td>2</td>\n",
       "      <td>1365.0</td>\n",
       "      <td>849.0</td>\n",
       "      <td>NaN</td>\n",
       "      <td>NaN</td>\n",
       "      <td>1/1/2013 9:00</td>\n",
       "      <td>NaN</td>\n",
       "      <td>0</td>\n",
       "      <td>0</td>\n",
       "      <td>1/1/2013 7:53</td>\n",
       "      <td>12.845653</td>\n",
       "      <td>77.677925</td>\n",
       "      <td>12.954340</td>\n",
       "      <td>77.600720</td>\n",
       "      <td>0</td>\n",
       "      <td>1.0</td>\n",
       "    </tr>\n",
       "  </tbody>\n",
       "</table>\n",
       "</div>"
      ],
      "text/plain": [
       "       id  user_id  vehicle_model_id  package_id  travel_type_id  \\\n",
       "0  132512    22177                28         NaN               2   \n",
       "1  132513    21413                12         NaN               2   \n",
       "2  132514    22178                12         NaN               2   \n",
       "3  132515    13034                12         NaN               2   \n",
       "4  132517    22180                12         NaN               2   \n",
       "\n",
       "   from_area_id  to_area_id  from_city_id  to_city_id      from_date  to_date  \\\n",
       "0          83.0       448.0           NaN         NaN  1/1/2013 2:00      NaN   \n",
       "1        1010.0       540.0           NaN         NaN  1/1/2013 9:00      NaN   \n",
       "2        1301.0      1034.0           NaN         NaN  1/1/2013 3:30      NaN   \n",
       "3         768.0       398.0           NaN         NaN  1/1/2013 5:45      NaN   \n",
       "4        1365.0       849.0           NaN         NaN  1/1/2013 9:00      NaN   \n",
       "\n",
       "   online_booking  mobile_site_booking booking_created   from_lat  from_long  \\\n",
       "0               0                    0   1/1/2013 1:39  12.924150  77.672290   \n",
       "1               0                    0   1/1/2013 2:25  12.966910  77.749350   \n",
       "2               0                    0   1/1/2013 3:08  12.937222  77.626915   \n",
       "3               0                    0   1/1/2013 4:39  12.989990  77.553320   \n",
       "4               0                    0   1/1/2013 7:53  12.845653  77.677925   \n",
       "\n",
       "      to_lat    to_long  Car_Cancellation  Cost_of_error  \n",
       "0  12.927320  77.635750                 0            1.0  \n",
       "1  12.927680  77.626640                 0            1.0  \n",
       "2  13.047926  77.597766                 0            1.0  \n",
       "3  12.971430  77.639140                 0            1.0  \n",
       "4  12.954340  77.600720                 0            1.0  "
      ]
     },
     "execution_count": 5,
     "metadata": {},
     "output_type": "execute_result"
    }
   ],
   "source": [
    "df=pd.read_csv('YourCabs_training.csv')\n",
    "df.head(5)\n"
   ]
  },
  {
   "cell_type": "markdown",
   "id": "c58887f7",
   "metadata": {},
   "source": [
    "# Dimnesion of a Dataframe"
   ]
  },
  {
   "cell_type": "code",
   "execution_count": 6,
   "id": "102cf1b7",
   "metadata": {},
   "outputs": [
    {
     "data": {
      "text/plain": [
       "(43431, 20)"
      ]
     },
     "execution_count": 6,
     "metadata": {},
     "output_type": "execute_result"
    }
   ],
   "source": [
    "df.shape"
   ]
  },
  {
   "cell_type": "markdown",
   "id": "7cacdc49",
   "metadata": {},
   "source": [
    "# Data set Information "
   ]
  },
  {
   "cell_type": "code",
   "execution_count": 8,
   "id": "71a63b1c",
   "metadata": {},
   "outputs": [
    {
     "name": "stdout",
     "output_type": "stream",
     "text": [
      "<class 'pandas.core.frame.DataFrame'>\n",
      "RangeIndex: 43431 entries, 0 to 43430\n",
      "Data columns (total 20 columns):\n",
      " #   Column               Non-Null Count  Dtype  \n",
      "---  ------               --------------  -----  \n",
      " 0   id                   43431 non-null  int64  \n",
      " 1   user_id              43431 non-null  int64  \n",
      " 2   vehicle_model_id     43431 non-null  int64  \n",
      " 3   package_id           7550 non-null   float64\n",
      " 4   travel_type_id       43431 non-null  int64  \n",
      " 5   from_area_id         43343 non-null  float64\n",
      " 6   to_area_id           34293 non-null  float64\n",
      " 7   from_city_id         16345 non-null  float64\n",
      " 8   to_city_id           1588 non-null   float64\n",
      " 9   from_date            43431 non-null  object \n",
      " 10  to_date              25541 non-null  float64\n",
      " 11  online_booking       43431 non-null  int64  \n",
      " 12  mobile_site_booking  43431 non-null  int64  \n",
      " 13  booking_created      43431 non-null  object \n",
      " 14  from_lat             43338 non-null  float64\n",
      " 15  from_long            43338 non-null  float64\n",
      " 16  to_lat               34293 non-null  float64\n",
      " 17  to_long              34293 non-null  float64\n",
      " 18  Car_Cancellation     43431 non-null  int64  \n",
      " 19  Cost_of_error        43431 non-null  float64\n",
      "dtypes: float64(11), int64(7), object(2)\n",
      "memory usage: 6.6+ MB\n"
     ]
    }
   ],
   "source": [
    "df.info()"
   ]
  },
  {
   "cell_type": "markdown",
   "id": "84793706",
   "metadata": {},
   "source": [
    "# Data Type"
   ]
  },
  {
   "cell_type": "code",
   "execution_count": 9,
   "id": "326108d0",
   "metadata": {},
   "outputs": [
    {
     "data": {
      "text/plain": [
       "id                       int64\n",
       "user_id                  int64\n",
       "vehicle_model_id         int64\n",
       "package_id             float64\n",
       "travel_type_id           int64\n",
       "from_area_id           float64\n",
       "to_area_id             float64\n",
       "from_city_id           float64\n",
       "to_city_id             float64\n",
       "from_date               object\n",
       "to_date                float64\n",
       "online_booking           int64\n",
       "mobile_site_booking      int64\n",
       "booking_created         object\n",
       "from_lat               float64\n",
       "from_long              float64\n",
       "to_lat                 float64\n",
       "to_long                float64\n",
       "Car_Cancellation         int64\n",
       "Cost_of_error          float64\n",
       "dtype: object"
      ]
     },
     "execution_count": 9,
     "metadata": {},
     "output_type": "execute_result"
    }
   ],
   "source": [
    "df.dtypes"
   ]
  },
  {
   "cell_type": "markdown",
   "id": "9a770708",
   "metadata": {},
   "source": [
    "# Validating Null Values"
   ]
  },
  {
   "cell_type": "code",
   "execution_count": 10,
   "id": "e847c40f",
   "metadata": {},
   "outputs": [
    {
     "data": {
      "text/plain": [
       "id                         0\n",
       "user_id                    0\n",
       "vehicle_model_id           0\n",
       "package_id             35881\n",
       "travel_type_id             0\n",
       "from_area_id              88\n",
       "to_area_id              9138\n",
       "from_city_id           27086\n",
       "to_city_id             41843\n",
       "from_date                  0\n",
       "to_date                17890\n",
       "online_booking             0\n",
       "mobile_site_booking        0\n",
       "booking_created            0\n",
       "from_lat                  93\n",
       "from_long                 93\n",
       "to_lat                  9138\n",
       "to_long                 9138\n",
       "Car_Cancellation           0\n",
       "Cost_of_error              0\n",
       "dtype: int64"
      ]
     },
     "execution_count": 10,
     "metadata": {},
     "output_type": "execute_result"
    }
   ],
   "source": [
    "df.isnull().sum()\n"
   ]
  },
  {
   "cell_type": "markdown",
   "id": "1bca44e5",
   "metadata": {},
   "source": [
    "# Finding Means"
   ]
  },
  {
   "cell_type": "code",
   "execution_count": 11,
   "id": "f3cac488",
   "metadata": {},
   "outputs": [],
   "source": [
    "mean1 = df[\"from_lat\"].mean()\n",
    "mean2 = df[\"from_long\"].mean()\n",
    "mean3 = df[\"to_lat\"].mean()\n",
    "mean4 = df[\"to_long\"].mean()"
   ]
  },
  {
   "cell_type": "code",
   "execution_count": 12,
   "id": "ab3fdd99",
   "metadata": {},
   "outputs": [],
   "source": [
    "# filling with there means in place of null \n",
    "df.from_lat.fillna(mean1,inplace=True)\n",
    "df.from_long.fillna(mean2,inplace=True)\n",
    "df.to_lat.fillna(mean3,inplace=True)\n",
    "df.to_long.fillna(mean4,inplace=True)"
   ]
  },
  {
   "cell_type": "code",
   "execution_count": 13,
   "id": "edc7839c",
   "metadata": {},
   "outputs": [
    {
     "data": {
      "text/html": [
       "<div>\n",
       "<style scoped>\n",
       "    .dataframe tbody tr th:only-of-type {\n",
       "        vertical-align: middle;\n",
       "    }\n",
       "\n",
       "    .dataframe tbody tr th {\n",
       "        vertical-align: top;\n",
       "    }\n",
       "\n",
       "    .dataframe thead th {\n",
       "        text-align: right;\n",
       "    }\n",
       "</style>\n",
       "<table border=\"1\" class=\"dataframe\">\n",
       "  <thead>\n",
       "    <tr style=\"text-align: right;\">\n",
       "      <th></th>\n",
       "      <th>vehicle_model_id</th>\n",
       "      <th>travel_type_id</th>\n",
       "      <th>from_date</th>\n",
       "      <th>online_booking</th>\n",
       "      <th>mobile_site_booking</th>\n",
       "      <th>booking_created</th>\n",
       "      <th>from_lat</th>\n",
       "      <th>from_long</th>\n",
       "      <th>to_lat</th>\n",
       "      <th>to_long</th>\n",
       "      <th>Car_Cancellation</th>\n",
       "      <th>Cost_of_error</th>\n",
       "    </tr>\n",
       "  </thead>\n",
       "  <tbody>\n",
       "    <tr>\n",
       "      <th>0</th>\n",
       "      <td>28</td>\n",
       "      <td>2</td>\n",
       "      <td>1/1/2013 2:00</td>\n",
       "      <td>0</td>\n",
       "      <td>0</td>\n",
       "      <td>1/1/2013 1:39</td>\n",
       "      <td>12.924150</td>\n",
       "      <td>77.672290</td>\n",
       "      <td>12.927320</td>\n",
       "      <td>77.635750</td>\n",
       "      <td>0</td>\n",
       "      <td>1.0</td>\n",
       "    </tr>\n",
       "    <tr>\n",
       "      <th>1</th>\n",
       "      <td>12</td>\n",
       "      <td>2</td>\n",
       "      <td>1/1/2013 9:00</td>\n",
       "      <td>0</td>\n",
       "      <td>0</td>\n",
       "      <td>1/1/2013 2:25</td>\n",
       "      <td>12.966910</td>\n",
       "      <td>77.749350</td>\n",
       "      <td>12.927680</td>\n",
       "      <td>77.626640</td>\n",
       "      <td>0</td>\n",
       "      <td>1.0</td>\n",
       "    </tr>\n",
       "    <tr>\n",
       "      <th>2</th>\n",
       "      <td>12</td>\n",
       "      <td>2</td>\n",
       "      <td>1/1/2013 3:30</td>\n",
       "      <td>0</td>\n",
       "      <td>0</td>\n",
       "      <td>1/1/2013 3:08</td>\n",
       "      <td>12.937222</td>\n",
       "      <td>77.626915</td>\n",
       "      <td>13.047926</td>\n",
       "      <td>77.597766</td>\n",
       "      <td>0</td>\n",
       "      <td>1.0</td>\n",
       "    </tr>\n",
       "    <tr>\n",
       "      <th>3</th>\n",
       "      <td>12</td>\n",
       "      <td>2</td>\n",
       "      <td>1/1/2013 5:45</td>\n",
       "      <td>0</td>\n",
       "      <td>0</td>\n",
       "      <td>1/1/2013 4:39</td>\n",
       "      <td>12.989990</td>\n",
       "      <td>77.553320</td>\n",
       "      <td>12.971430</td>\n",
       "      <td>77.639140</td>\n",
       "      <td>0</td>\n",
       "      <td>1.0</td>\n",
       "    </tr>\n",
       "    <tr>\n",
       "      <th>4</th>\n",
       "      <td>12</td>\n",
       "      <td>2</td>\n",
       "      <td>1/1/2013 9:00</td>\n",
       "      <td>0</td>\n",
       "      <td>0</td>\n",
       "      <td>1/1/2013 7:53</td>\n",
       "      <td>12.845653</td>\n",
       "      <td>77.677925</td>\n",
       "      <td>12.954340</td>\n",
       "      <td>77.600720</td>\n",
       "      <td>0</td>\n",
       "      <td>1.0</td>\n",
       "    </tr>\n",
       "  </tbody>\n",
       "</table>\n",
       "</div>"
      ],
      "text/plain": [
       "   vehicle_model_id  travel_type_id      from_date  online_booking  \\\n",
       "0                28               2  1/1/2013 2:00               0   \n",
       "1                12               2  1/1/2013 9:00               0   \n",
       "2                12               2  1/1/2013 3:30               0   \n",
       "3                12               2  1/1/2013 5:45               0   \n",
       "4                12               2  1/1/2013 9:00               0   \n",
       "\n",
       "   mobile_site_booking booking_created   from_lat  from_long     to_lat  \\\n",
       "0                    0   1/1/2013 1:39  12.924150  77.672290  12.927320   \n",
       "1                    0   1/1/2013 2:25  12.966910  77.749350  12.927680   \n",
       "2                    0   1/1/2013 3:08  12.937222  77.626915  13.047926   \n",
       "3                    0   1/1/2013 4:39  12.989990  77.553320  12.971430   \n",
       "4                    0   1/1/2013 7:53  12.845653  77.677925  12.954340   \n",
       "\n",
       "     to_long  Car_Cancellation  Cost_of_error  \n",
       "0  77.635750                 0            1.0  \n",
       "1  77.626640                 0            1.0  \n",
       "2  77.597766                 0            1.0  \n",
       "3  77.639140                 0            1.0  \n",
       "4  77.600720                 0            1.0  "
      ]
     },
     "execution_count": 13,
     "metadata": {},
     "output_type": "execute_result"
    }
   ],
   "source": [
    "# droping those features which are not required (columns with either null values or with all unique values)  \n",
    "df.drop(['id','user_id','to_area_id','from_area_id','package_id','from_city_id', 'to_city_id','to_date'],inplace=True,axis=1)\n",
    "df.head() "
   ]
  },
  {
   "cell_type": "markdown",
   "id": "942e6140",
   "metadata": {},
   "source": [
    "# finding the time difference between booking created and requested trip start time."
   ]
  },
  {
   "cell_type": "code",
   "execution_count": 18,
   "id": "93ac05e3",
   "metadata": {},
   "outputs": [],
   "source": [
    "# for from_date feature\n",
    "trip_strt=np.array(df['from_date'])\n",
    "trip_strt=trip_strt.astype('str')"
   ]
  },
  {
   "cell_type": "code",
   "execution_count": 19,
   "id": "db81d6e6",
   "metadata": {},
   "outputs": [],
   "source": [
    "# splitting into date and time\n",
    "date=[]\n",
    "for j in trip_strt:\n",
    "    date.append(j.split()[0])\n",
    "\n",
    "time=[]\n",
    "for i in trip_strt:\n",
    "    time.append(i.split()[1])"
   ]
  },
  {
   "cell_type": "code",
   "execution_count": 20,
   "id": "00d1b08d",
   "metadata": {},
   "outputs": [],
   "source": [
    "# splitting date into day, month and year\n",
    "day=[]\n",
    "month=[]\n",
    "year=[]\n",
    "for q in date:\n",
    "    day.append(q.split('/')[1])\n",
    "    month.append(q.split('/')[0])\n",
    "    year.append(q.split('/')[2])\n",
    "    \n",
    "# splitting time into hours and minutes    \n",
    "time_hours=[]\n",
    "time_minutes=[]\n",
    "for w in time:\n",
    "    time_hours.append(w.split(':')[0])\n",
    "    time_minutes.append(w.split(':')[1])"
   ]
  },
  {
   "cell_type": "code",
   "execution_count": 21,
   "id": "6828e902",
   "metadata": {},
   "outputs": [],
   "source": [
    "# for booking_created feature\n",
    "booking=np.array(df['booking_created'])\n",
    "booking=booking.astype('str')"
   ]
  },
  {
   "cell_type": "code",
   "execution_count": 22,
   "id": "bcd4d829",
   "metadata": {},
   "outputs": [],
   "source": [
    "# splitting into date and time\n",
    "booking_date=[]\n",
    "for j in booking:\n",
    "    booking_date.append(j.split()[0])\n",
    "booking_time=[]\n",
    "for i in booking:\n",
    "    booking_time.append(i.split()[1])"
   ]
  },
  {
   "cell_type": "code",
   "execution_count": 23,
   "id": "1575b9cf",
   "metadata": {},
   "outputs": [],
   "source": [
    "# splitting date into day, month and year\n",
    "booking_day=[]\n",
    "booking_month=[]\n",
    "booking_year=[]\n",
    "for q in booking_date:\n",
    "    booking_day.append(q.split('/')[1])\n",
    "    booking_month.append(q.split('/')[0])\n",
    "    booking_year.append(q.split('/')[2])\n",
    "\n",
    "# splitting time into hours and minutes  \n",
    "bookingtime_hours=[]\n",
    "bookingtime_minutes=[]\n",
    "for w in booking_time:\n",
    "    bookingtime_hours.append(w.split(':')[0])\n",
    "    bookingtime_minutes.append(w.split(':')[1])"
   ]
  },
  {
   "cell_type": "code",
   "execution_count": 24,
   "id": "f3acae66",
   "metadata": {},
   "outputs": [
    {
     "data": {
      "text/plain": [
       "43431"
      ]
     },
     "execution_count": 24,
     "metadata": {},
     "output_type": "execute_result"
    }
   ],
   "source": [
    "len(bookingtime_hours)"
   ]
  },
  {
   "cell_type": "code",
   "execution_count": 25,
   "id": "7b869a53",
   "metadata": {},
   "outputs": [],
   "source": [
    "# subtraction of date and time of booking created from requested trip start time\n",
    "from datetime import datetime\n",
    "diff_days=[]\n",
    "diff_time=[]\n",
    "bookingdate=[]\n",
    "tripdate=[]\n",
    "for i in range(43431):\n",
    "    bookingdate.append(datetime(int(booking_year[i]),int(booking_month[i]),int(booking_day[i]),int(bookingtime_hours[i]),int(bookingtime_minutes[i])))\n",
    "    tripdate.append(datetime(int(year[i]),int(month[i]),int(day[i]),int(time_hours[i]),int(time_minutes[i])))\n",
    "    diff  = tripdate[i] - bookingdate[i]\n",
    "    days, seconds = diff.days, diff.seconds\n",
    "    diff_days.append(days)\n",
    "    diff_time.append(float('%.2f'%(seconds/86400)))"
   ]
  },
  {
   "cell_type": "code",
   "execution_count": 26,
   "id": "9cc0cd8e",
   "metadata": {},
   "outputs": [],
   "source": [
    "diff_days= np.array(diff_days)\n",
    "diff_time= np.array(diff_time)"
   ]
  },
  {
   "cell_type": "code",
   "execution_count": 27,
   "id": "534ebcd2",
   "metadata": {},
   "outputs": [],
   "source": [
    "# adding it (difference in days feature) to the dataset\n",
    "date_diff = diff_days + diff_time\n",
    "df['date_diff']=np.array(date_diff)\n"
   ]
  },
  {
   "cell_type": "markdown",
   "id": "997f2a9a",
   "metadata": {},
   "source": [
    " date_diff"
   ]
  },
  {
   "cell_type": "code",
   "execution_count": 28,
   "id": "59b5d851",
   "metadata": {},
   "outputs": [],
   "source": [
    "\n",
    "df.drop([\"from_date\",\"booking_created\"],inplace=True,axis=1)"
   ]
  },
  {
   "cell_type": "code",
   "execution_count": 29,
   "id": "9c66d32d",
   "metadata": {},
   "outputs": [],
   "source": [
    "f_lat = np.array(df[\"from_lat\"])\n",
    "f_long = np.array(df[\"from_long\"])\n",
    "t_lat = np.array(df[\"to_lat\"])\n",
    "t_long = np.array(df[\"to_long\"])"
   ]
  },
  {
   "cell_type": "code",
   "execution_count": 30,
   "id": "46cab1f2",
   "metadata": {},
   "outputs": [],
   "source": [
    "# calculating the distance between source and destination longitude and latitude\n",
    "lat= t_lat - f_lat\n",
    "long= t_long - f_long\n",
    "df['lat']=np.array(lat)\n",
    "df['long']=np.array(long)"
   ]
  },
  {
   "cell_type": "code",
   "execution_count": 31,
   "id": "5a1a0400",
   "metadata": {},
   "outputs": [],
   "source": [
    "target=df['Car_Cancellation']\n",
    "df.drop(['Car_Cancellation','Cost_of_error'],inplace=True,axis=1)"
   ]
  },
  {
   "cell_type": "code",
   "execution_count": 32,
   "id": "84c5a2f0",
   "metadata": {},
   "outputs": [
    {
     "data": {
      "text/html": [
       "<div>\n",
       "<style scoped>\n",
       "    .dataframe tbody tr th:only-of-type {\n",
       "        vertical-align: middle;\n",
       "    }\n",
       "\n",
       "    .dataframe tbody tr th {\n",
       "        vertical-align: top;\n",
       "    }\n",
       "\n",
       "    .dataframe thead th {\n",
       "        text-align: right;\n",
       "    }\n",
       "</style>\n",
       "<table border=\"1\" class=\"dataframe\">\n",
       "  <thead>\n",
       "    <tr style=\"text-align: right;\">\n",
       "      <th></th>\n",
       "      <th>vehicle_model_id</th>\n",
       "      <th>travel_type_id</th>\n",
       "      <th>online_booking</th>\n",
       "      <th>mobile_site_booking</th>\n",
       "      <th>from_lat</th>\n",
       "      <th>from_long</th>\n",
       "      <th>to_lat</th>\n",
       "      <th>to_long</th>\n",
       "      <th>date_diff</th>\n",
       "      <th>lat</th>\n",
       "      <th>long</th>\n",
       "    </tr>\n",
       "  </thead>\n",
       "  <tbody>\n",
       "    <tr>\n",
       "      <th>0</th>\n",
       "      <td>28</td>\n",
       "      <td>2</td>\n",
       "      <td>0</td>\n",
       "      <td>0</td>\n",
       "      <td>12.924150</td>\n",
       "      <td>77.672290</td>\n",
       "      <td>12.927320</td>\n",
       "      <td>77.635750</td>\n",
       "      <td>0.01</td>\n",
       "      <td>0.003170</td>\n",
       "      <td>-0.036540</td>\n",
       "    </tr>\n",
       "    <tr>\n",
       "      <th>1</th>\n",
       "      <td>12</td>\n",
       "      <td>2</td>\n",
       "      <td>0</td>\n",
       "      <td>0</td>\n",
       "      <td>12.966910</td>\n",
       "      <td>77.749350</td>\n",
       "      <td>12.927680</td>\n",
       "      <td>77.626640</td>\n",
       "      <td>0.27</td>\n",
       "      <td>-0.039230</td>\n",
       "      <td>-0.122710</td>\n",
       "    </tr>\n",
       "    <tr>\n",
       "      <th>2</th>\n",
       "      <td>12</td>\n",
       "      <td>2</td>\n",
       "      <td>0</td>\n",
       "      <td>0</td>\n",
       "      <td>12.937222</td>\n",
       "      <td>77.626915</td>\n",
       "      <td>13.047926</td>\n",
       "      <td>77.597766</td>\n",
       "      <td>0.02</td>\n",
       "      <td>0.110704</td>\n",
       "      <td>-0.029149</td>\n",
       "    </tr>\n",
       "    <tr>\n",
       "      <th>3</th>\n",
       "      <td>12</td>\n",
       "      <td>2</td>\n",
       "      <td>0</td>\n",
       "      <td>0</td>\n",
       "      <td>12.989990</td>\n",
       "      <td>77.553320</td>\n",
       "      <td>12.971430</td>\n",
       "      <td>77.639140</td>\n",
       "      <td>0.05</td>\n",
       "      <td>-0.018560</td>\n",
       "      <td>0.085820</td>\n",
       "    </tr>\n",
       "    <tr>\n",
       "      <th>4</th>\n",
       "      <td>12</td>\n",
       "      <td>2</td>\n",
       "      <td>0</td>\n",
       "      <td>0</td>\n",
       "      <td>12.845653</td>\n",
       "      <td>77.677925</td>\n",
       "      <td>12.954340</td>\n",
       "      <td>77.600720</td>\n",
       "      <td>0.05</td>\n",
       "      <td>0.108687</td>\n",
       "      <td>-0.077205</td>\n",
       "    </tr>\n",
       "  </tbody>\n",
       "</table>\n",
       "</div>"
      ],
      "text/plain": [
       "   vehicle_model_id  travel_type_id  online_booking  mobile_site_booking  \\\n",
       "0                28               2               0                    0   \n",
       "1                12               2               0                    0   \n",
       "2                12               2               0                    0   \n",
       "3                12               2               0                    0   \n",
       "4                12               2               0                    0   \n",
       "\n",
       "    from_lat  from_long     to_lat    to_long  date_diff       lat      long  \n",
       "0  12.924150  77.672290  12.927320  77.635750       0.01  0.003170 -0.036540  \n",
       "1  12.966910  77.749350  12.927680  77.626640       0.27 -0.039230 -0.122710  \n",
       "2  12.937222  77.626915  13.047926  77.597766       0.02  0.110704 -0.029149  \n",
       "3  12.989990  77.553320  12.971430  77.639140       0.05 -0.018560  0.085820  \n",
       "4  12.845653  77.677925  12.954340  77.600720       0.05  0.108687 -0.077205  "
      ]
     },
     "execution_count": 32,
     "metadata": {},
     "output_type": "execute_result"
    }
   ],
   "source": [
    "df.head()"
   ]
  },
  {
   "cell_type": "markdown",
   "id": "00f936b7",
   "metadata": {},
   "source": [
    "# information"
   ]
  },
  {
   "cell_type": "code",
   "execution_count": 33,
   "id": "dd4b3682",
   "metadata": {},
   "outputs": [
    {
     "name": "stdout",
     "output_type": "stream",
     "text": [
      "<class 'pandas.core.frame.DataFrame'>\n",
      "RangeIndex: 43431 entries, 0 to 43430\n",
      "Data columns (total 11 columns):\n",
      " #   Column               Non-Null Count  Dtype  \n",
      "---  ------               --------------  -----  \n",
      " 0   vehicle_model_id     43431 non-null  int64  \n",
      " 1   travel_type_id       43431 non-null  int64  \n",
      " 2   online_booking       43431 non-null  int64  \n",
      " 3   mobile_site_booking  43431 non-null  int64  \n",
      " 4   from_lat             43431 non-null  float64\n",
      " 5   from_long            43431 non-null  float64\n",
      " 6   to_lat               43431 non-null  float64\n",
      " 7   to_long              43431 non-null  float64\n",
      " 8   date_diff            43431 non-null  float64\n",
      " 9   lat                  43431 non-null  float64\n",
      " 10  long                 43431 non-null  float64\n",
      "dtypes: float64(7), int64(4)\n",
      "memory usage: 3.6 MB\n"
     ]
    }
   ],
   "source": [
    "df.info()"
   ]
  },
  {
   "cell_type": "code",
   "execution_count": 34,
   "id": "7d42f7e1",
   "metadata": {},
   "outputs": [
    {
     "data": {
      "image/png": "[encoded data removed]",
      "text/plain": [
       "<Figure size 1000x800 with 1 Axes>"
      ]
     },
     "metadata": {},
     "output_type": "display_data"
    }
   ],
   "source": [
    "#Analysing vehicle_model_id\n",
    "all_bookings= df['vehicle_model_id'].value_counts()\n",
    "cancelled= df[target==1]['vehicle_model_id'].value_counts()\n",
    "df1=pd.DataFrame([all_bookings,cancelled])\n",
    "df1.index=['Booked','Cancelled']\n",
    "df1.plot(kind='bar',stacked=True,figsize=(10,8))\n",
    "plt.xticks(rotation=30)\n",
    "plt.show()"
   ]
  },
  {
   "cell_type": "code",
   "execution_count": 35,
   "id": "5fc8dbed",
   "metadata": {},
   "outputs": [
    {
     "data": {
      "image/png": "[encoded data removed]",
      "text/plain": [
       "<Figure size 800x500 with 1 Axes>"
      ]
     },
     "metadata": {},
     "output_type": "display_data"
    }
   ],
   "source": [
    "#Analysing travel_type_id\n",
    "all_bookings= df['travel_type_id'].value_counts()\n",
    "cancelled= df[target==1]['travel_type_id'].value_counts()\n",
    "df1=pd.DataFrame([all_bookings,cancelled])\n",
    "df1.index=['Booked','Cancelled']\n",
    "df1.plot(kind='bar',stacked=True,figsize=(8,5))\n",
    "plt.xticks(rotation=30)\n",
    "plt.show()"
   ]
  },
  {
   "cell_type": "code",
   "execution_count": 36,
   "id": "d8d3c437",
   "metadata": {},
   "outputs": [
    {
     "data": {
      "image/png": "[encoded data removed]",
      "text/plain": [
       "<Figure size 800x500 with 1 Axes>"
      ]
     },
     "metadata": {},
     "output_type": "display_data"
    }
   ],
   "source": [
    "#Analysing online_booking\n",
    "all_bookings= df['online_booking'].value_counts()\n",
    "cancelled= df[target==1]['online_booking'].value_counts()\n",
    "df1=pd.DataFrame([all_bookings,cancelled])\n",
    "df1.index=['Booked','Cancelled']\n",
    "df1.plot(kind='bar',stacked=True,figsize=(8,5))\n",
    "plt.xticks(rotation=30)\n",
    "plt.show()"
   ]
  },
  {
   "cell_type": "code",
   "execution_count": 37,
   "id": "5a012685",
   "metadata": {},
   "outputs": [
    {
     "data": {
      "image/png": "[encoded data removed]",
      "text/plain": [
       "<Figure size 800x500 with 1 Axes>"
      ]
     },
     "metadata": {},
     "output_type": "display_data"
    }
   ],
   "source": [
    "#Analysing mobile_site_booking\n",
    "all_bookings= df['mobile_site_booking'].value_counts()\n",
    "cancelled= df[target==1]['mobile_site_booking'].value_counts()\n",
    "df1=pd.DataFrame([all_bookings,cancelled])\n",
    "df1.index=['Booked','Cancelled']\n",
    "df1.plot(kind='bar',stacked=True,figsize=(8,5))\n",
    "plt.xticks(rotation=30)\n",
    "plt.show()"
   ]
  },
  {
   "cell_type": "code",
   "execution_count": 38,
   "id": "37e941fe",
   "metadata": {},
   "outputs": [],
   "source": [
    "#splitting data into training and testing sets\n",
    "from sklearn.model_selection import train_test_split as tts\n",
    "X_train, X_test, Y_train, Y_test = tts(df, target, test_size=0.33, random_state=0)\n",
    "from sklearn.metrics import confusion_matrix as cm"
   ]
  },
  {
   "cell_type": "markdown",
   "id": "3bbe600b",
   "metadata": {},
   "source": [
    "# Navies Bayes analysis"
   ]
  },
  {
   "cell_type": "code",
   "execution_count": 39,
   "id": "ab181883",
   "metadata": {},
   "outputs": [],
   "source": [
    "from sklearn.naive_bayes import GaussianNB\n",
    "clf = GaussianNB()\n",
    "clf.fit(X_train,Y_train)\n",
    "y_predict=clf.predict(X_test)"
   ]
  },
  {
   "cell_type": "code",
   "execution_count": 41,
   "id": "d796608c",
   "metadata": {},
   "outputs": [
    {
     "name": "stdout",
     "output_type": "stream",
     "text": [
      "[[12584   736]\n",
      " [  870   143]]\n",
      "0.8879508825786646\n"
     ]
    }
   ],
   "source": [
    "cnf_matrix = cm(Y_test, y_predict)\n",
    "print(cnf_matrix)\n",
    "print(clf.score(X_test,Y_test))"
   ]
  },
  {
   "cell_type": "code",
   "execution_count": 43,
   "id": "a5029d5f",
   "metadata": {},
   "outputs": [
    {
     "data": {
      "image/png": "[encoded data removed]",
      "text/plain": [
       "<Figure size 640x480 with 2 Axes>"
      ]
     },
     "metadata": {},
     "output_type": "display_data"
    }
   ],
   "source": [
    "df_cm = pd.DataFrame(cnf_matrix, range(2), range(2))\n",
    "sns.heatmap(df_cm, annot=True, annot_kws={\"size\": 17}) \n",
    "plt.show()"
   ]
  },
  {
   "cell_type": "markdown",
   "id": "05b6b09f",
   "metadata": {},
   "source": [
    "# KNN Analsiysis"
   ]
  },
  {
   "cell_type": "code",
   "execution_count": 44,
   "id": "1974f130",
   "metadata": {},
   "outputs": [
    {
     "name": "stderr",
     "output_type": "stream",
     "text": [
      "C:\\Users\\ADITHYA\\anaconda3\\lib\\site-packages\\sklearn\\neighbors\\_classification.py:228: FutureWarning: Unlike other reduction functions (e.g. `skew`, `kurtosis`), the default behavior of `mode` typically preserves the axis it acts along. In SciPy 1.11.0, this behavior will change: the default value of `keepdims` will become False, the `axis` over which the statistic is taken will be eliminated, and the value None will no longer be accepted. Set `keepdims` to True or False to avoid this warning.\n",
      "  mode, _ = stats.mode(_y[neigh_ind, k], axis=1)\n"
     ]
    }
   ],
   "source": [
    "from sklearn.neighbors import KNeighborsClassifier as knn\n",
    "neigh = knn(n_neighbors=50)\n",
    "neigh.fit(X_train,Y_train)\n",
    "y_predict=neigh.predict(X_test)"
   ]
  },
  {
   "cell_type": "code",
   "execution_count": 45,
   "id": "53731bbe",
   "metadata": {},
   "outputs": [
    {
     "name": "stdout",
     "output_type": "stream",
     "text": [
      "[[13261    59]\n",
      " [  945    68]]\n"
     ]
    },
    {
     "name": "stderr",
     "output_type": "stream",
     "text": [
      "C:\\Users\\ADITHYA\\anaconda3\\lib\\site-packages\\sklearn\\neighbors\\_classification.py:228: FutureWarning: Unlike other reduction functions (e.g. `skew`, `kurtosis`), the default behavior of `mode` typically preserves the axis it acts along. In SciPy 1.11.0, this behavior will change: the default value of `keepdims` will become False, the `axis` over which the statistic is taken will be eliminated, and the value None will no longer be accepted. Set `keepdims` to True or False to avoid this warning.\n",
      "  mode, _ = stats.mode(_y[neigh_ind, k], axis=1)\n"
     ]
    },
    {
     "name": "stdout",
     "output_type": "stream",
     "text": [
      "0.9299518593455661\n"
     ]
    }
   ],
   "source": [
    "cnf_matrix1 = cm(Y_test, y_predict)\n",
    "print(cnf_matrix1)\n",
    "print(neigh.score(X_test,Y_test))"
   ]
  },
  {
   "cell_type": "code",
   "execution_count": 47,
   "id": "276e86dd",
   "metadata": {},
   "outputs": [
    {
     "data": {
      "image/png": "[encoded data removed]",
      "text/plain": [
       "<Figure size 640x480 with 2 Axes>"
      ]
     },
     "metadata": {},
     "output_type": "display_data"
    }
   ],
   "source": [
    "df_cm = pd.DataFrame(cnf_matrix1, range(2), range(2))\n",
    "sns.heatmap(df_cm, annot=True, annot_kws={\"size\": 17}) \n",
    "plt.show()"
   ]
  },
  {
   "cell_type": "markdown",
   "id": "d9875869",
   "metadata": {},
   "source": [
    "# Decsion Tree"
   ]
  },
  {
   "cell_type": "code",
   "execution_count": 48,
   "id": "029e391d",
   "metadata": {},
   "outputs": [],
   "source": [
    "from sklearn.tree import DecisionTreeClassifier as dc\n",
    "dtc = dc(criterion = \"entropy\")\n",
    "dtc.fit(X_train,Y_train)\n",
    "y_predict=dtc.predict(X_test)"
   ]
  },
  {
   "cell_type": "code",
   "execution_count": 49,
   "id": "d98c3874",
   "metadata": {},
   "outputs": [
    {
     "name": "stdout",
     "output_type": "stream",
     "text": [
      "[[12552   768]\n",
      " [  739   274]]\n",
      "0.8948580199539524\n"
     ]
    }
   ],
   "source": [
    "cnf_matrix2 = cm(Y_test, y_predict)\n",
    "print(cnf_matrix2)\n",
    "print(dtc.score(X_test,Y_test))"
   ]
  },
  {
   "cell_type": "code",
   "execution_count": 50,
   "id": "ae7263a2",
   "metadata": {},
   "outputs": [
    {
     "data": {
      "image/png": "[encoded data removed]",
      "text/plain": [
       "<Figure size 640x480 with 2 Axes>"
      ]
     },
     "metadata": {},
     "output_type": "display_data"
    }
   ],
   "source": [
    "df_cm = pd.DataFrame(cnf_matrix2, range(2), range(2))\n",
    "sns.heatmap(df_cm, annot=True, annot_kws={\"size\": 17}) \n",
    "plt.show()"
   ]
  },
  {
   "cell_type": "code",
   "execution_count": 62,
   "id": "2f414a7c",
   "metadata": {},
   "outputs": [
    {
     "name": "stderr",
     "output_type": "stream",
     "text": [
      "C:\\Users\\ADITHYA\\anaconda3\\lib\\site-packages\\seaborn\\_decorators.py:36: FutureWarning: Pass the following variables as keyword args: x, y. From version 0.12, the only valid positional argument will be `data`, and passing other arguments without an explicit keyword will result in an error or misinterpretation.\n",
      "  warnings.warn(\n"
     ]
    },
    {
     "data": {
      "text/plain": [
       "Text(0, 0.5, 'Predicted Y')"
      ]
     },
     "execution_count": 62,
     "metadata": {},
     "output_type": "execute_result"
    },
    {
     "data": {
      "image/png": "[encoded data removed]",
      "text/plain": [
       "<Figure size 640x480 with 1 Axes>"
      ]
     },
     "metadata": {},
     "output_type": "display_data"
    }
   ],
   "source": [
    "sns.regplot(Y_test,y_predict)\n",
    "plt.xlabel('Y Test')\n",
    "plt.ylabel('Predicted Y')"
   ]
  },
  {
   "cell_type": "code",
   "execution_count": 63,
   "id": "3fb3874c",
   "metadata": {},
   "outputs": [
    {
     "name": "stderr",
     "output_type": "stream",
     "text": [
      "C:\\Users\\ADITHYA\\anaconda3\\lib\\site-packages\\seaborn\\distributions.py:2619: FutureWarning: `distplot` is a deprecated function and will be removed in a future version. Please adapt your code to use either `displot` (a figure-level function with similar flexibility) or `histplot` (an axes-level function for histograms).\n",
      "  warnings.warn(msg, FutureWarning)\n"
     ]
    },
    {
     "data": {
      "text/plain": [
       "<AxesSubplot:xlabel='Car_Cancellation', ylabel='Density'>"
      ]
     },
     "execution_count": 63,
     "metadata": {},
     "output_type": "execute_result"
    },
    {
     "data": {
      "image/png": "[encoded data removed]",
      "text/plain": [
       "<Figure size 640x480 with 1 Axes>"
      ]
     },
     "metadata": {},
     "output_type": "display_data"
    }
   ],
   "source": [
    "sns.distplot(Y_test - y_predict,bins=50)"
   ]
  },
  {
   "cell_type": "markdown",
   "id": "7efa130b",
   "metadata": {},
   "source": [
    "# Logicial Regression"
   ]
  },
  {
   "cell_type": "code",
   "execution_count": 51,
   "id": "84161e9b",
   "metadata": {},
   "outputs": [
    {
     "name": "stderr",
     "output_type": "stream",
     "text": [
      "C:\\Users\\ADITHYA\\anaconda3\\lib\\site-packages\\sklearn\\linear_model\\_logistic.py:814: ConvergenceWarning: lbfgs failed to converge (status=1):\n",
      "STOP: TOTAL NO. of ITERATIONS REACHED LIMIT.\n",
      "\n",
      "Increase the number of iterations (max_iter) or scale the data as shown in:\n",
      "    https://scikit-learn.org/stable/modules/preprocessing.html\n",
      "Please also refer to the documentation for alternative solver options:\n",
      "    https://scikit-learn.org/stable/modules/linear_model.html#logistic-regression\n",
      "  n_iter_i = _check_optimize_result(\n"
     ]
    }
   ],
   "source": [
    "from sklearn.linear_model import LogisticRegression as LR\n",
    "l = LR()\n",
    "l.fit(X_train,Y_train)\n",
    "y_predict = l.predict(X_test)\n"
   ]
  },
  {
   "cell_type": "code",
   "execution_count": 52,
   "id": "d9315f9e",
   "metadata": {},
   "outputs": [
    {
     "name": "stdout",
     "output_type": "stream",
     "text": [
      "[[13314     6]\n",
      " [ 1010     3]]\n",
      "0.929114630572804\n"
     ]
    }
   ],
   "source": [
    "cnf_matrix3 = cm(Y_test, y_predict)\n",
    "print(cnf_matrix3)\n",
    "print(l.score(X_test,Y_test))"
   ]
  },
  {
   "cell_type": "code",
   "execution_count": 54,
   "id": "363b3632",
   "metadata": {},
   "outputs": [
    {
     "data": {
      "image/png": "[encoded data removed]",
      "text/plain": [
       "<Figure size 640x480 with 2 Axes>"
      ]
     },
     "metadata": {},
     "output_type": "display_data"
    }
   ],
   "source": [
    "df_cm = pd.DataFrame(cnf_matrix3, range(2), range(2))\n",
    "sns.heatmap(df_cm, annot=True, annot_kws={\"size\": 17}) \n",
    "plt.show()"
   ]
  },
  {
   "cell_type": "code",
   "execution_count": 64,
   "id": "5855a4a0",
   "metadata": {},
   "outputs": [
    {
     "name": "stderr",
     "output_type": "stream",
     "text": [
      "C:\\Users\\ADITHYA\\anaconda3\\lib\\site-packages\\seaborn\\_decorators.py:36: FutureWarning: Pass the following variables as keyword args: x, y. From version 0.12, the only valid positional argument will be `data`, and passing other arguments without an explicit keyword will result in an error or misinterpretation.\n",
      "  warnings.warn(\n"
     ]
    },
    {
     "data": {
      "text/plain": [
       "Text(0, 0.5, 'Predicted Y')"
      ]
     },
     "execution_count": 64,
     "metadata": {},
     "output_type": "execute_result"
    },
    {
     "data": {
      "image/png": "[encoded data removed]",
      "text/plain": [
       "<Figure size 640x480 with 1 Axes>"
      ]
     },
     "metadata": {},
     "output_type": "display_data"
    }
   ],
   "source": [
    "sns.regplot(Y_test,y_predict)\n",
    "plt.xlabel('Y Test')\n",
    "plt.ylabel('Predicted Y')"
   ]
  },
  {
   "cell_type": "markdown",
   "id": "304750e9",
   "metadata": {},
   "source": [
    "# Random Forest"
   ]
  },
  {
   "cell_type": "code",
   "execution_count": 55,
   "id": "99709552",
   "metadata": {},
   "outputs": [],
   "source": [
    "from sklearn import ensemble\n",
    "rf= ensemble.RandomForestClassifier()\n",
    "rf.fit(X_train, Y_train)\n",
    "y_predict= rf.predict(X_test)"
   ]
  },
  {
   "cell_type": "code",
   "execution_count": 56,
   "id": "1515cbac",
   "metadata": {},
   "outputs": [
    {
     "name": "stdout",
     "output_type": "stream",
     "text": [
      "[[13047   273]\n",
      " [  856   157]]\n",
      "0.929114630572804\n"
     ]
    }
   ],
   "source": [
    "cnf_matrix4 = cm(Y_test, y_predict)\n",
    "print(cnf_matrix4)\n",
    "print(l.score(X_test,Y_test))"
   ]
  },
  {
   "cell_type": "code",
   "execution_count": 57,
   "id": "09ad44cc",
   "metadata": {},
   "outputs": [
    {
     "data": {
      "image/png": "[encoded data removed]",
      "text/plain": [
       "<Figure size 640x480 with 2 Axes>"
      ]
     },
     "metadata": {},
     "output_type": "display_data"
    }
   ],
   "source": [
    "df_cm = pd.DataFrame(cnf_matrix4, range(2), range(2))\n",
    "sns.heatmap(df_cm, annot=True, annot_kws={\"size\": 17}) \n",
    "plt.show()"
   ]
  },
  {
   "cell_type": "code",
   "execution_count": 59,
   "id": "f934d242",
   "metadata": {},
   "outputs": [
    {
     "name": "stderr",
     "output_type": "stream",
     "text": [
      "C:\\Users\\ADITHYA\\anaconda3\\lib\\site-packages\\seaborn\\_decorators.py:36: FutureWarning: Pass the following variables as keyword args: x, y. From version 0.12, the only valid positional argument will be `data`, and passing other arguments without an explicit keyword will result in an error or misinterpretation.\n",
      "  warnings.warn(\n"
     ]
    },
    {
     "data": {
      "text/plain": [
       "Text(0, 0.5, 'Predicted Y')"
      ]
     },
     "execution_count": 59,
     "metadata": {},
     "output_type": "execute_result"
    },
    {
     "data": {
      "image/png": "[encoded data removed]",
      "text/plain": [
       "<Figure size 640x480 with 1 Axes>"
      ]
     },
     "metadata": {},
     "output_type": "display_data"
    }
   ],
   "source": [
    "sns.regplot(Y_test,y_predict)\n",
    "plt.xlabel('Y Test')\n",
    "plt.ylabel('Predicted Y')"
   ]
  },
  {
   "cell_type": "code",
   "execution_count": 61,
   "id": "e3caf011",
   "metadata": {},
   "outputs": [
    {
     "name": "stderr",
     "output_type": "stream",
     "text": [
      "C:\\Users\\ADITHYA\\anaconda3\\lib\\site-packages\\seaborn\\distributions.py:2619: FutureWarning: `distplot` is a deprecated function and will be removed in a future version. Please adapt your code to use either `displot` (a figure-level function with similar flexibility) or `histplot` (an axes-level function for histograms).\n",
      "  warnings.warn(msg, FutureWarning)\n"
     ]
    },
    {
     "data": {
      "text/plain": [
       "<AxesSubplot:xlabel='Car_Cancellation', ylabel='Density'>"
      ]
     },
     "execution_count": 61,
     "metadata": {},
     "output_type": "execute_result"
    },
    {
     "data": {
      "image/png": "[encoded data removed]",
      "text/plain": [
       "<Figure size 640x480 with 1 Axes>"
      ]
     },
     "metadata": {},
     "output_type": "display_data"
    }
   ],
   "source": [
    "sns.distplot(Y_test - y_predict,bins=50)"
   ]
  },
  {
   "cell_type": "code",
   "execution_count": null,
   "id": "fb5f2224",
   "metadata": {},
   "outputs": [],
   "source": []
  }
 ],
 "metadata": {
  "kernelspec": {
   "display_name": "Python 3 (ipykernel)",
   "language": "python",
   "name": "python3"
  },
  "language_info": {
   "codemirror_mode": {
    "name": "ipython",
    "version": 3
   },
   "file_extension": ".py",
   "mimetype": "text/x-python",
   "name": "python",
   "nbconvert_exporter": "python",
   "pygments_lexer": "ipython3",
   "version": "3.9.13"
  }
 },
 "nbformat": 4,
 "nbformat_minor": 5
}
